{
 "cells": [
  {
   "cell_type": "code",
   "execution_count": 1,
   "metadata": {},
   "outputs": [],
   "source": [
    "import numpy as np\n",
    "import matplotlib.pyplot as plt\n",
    "import cv2\n",
    "import torch\n",
    "import torchvision\n",
    "import torch.nn as nn\n",
    "\n"
   ]
  },
  {
   "cell_type": "code",
   "execution_count": 138,
   "metadata": {},
   "outputs": [],
   "source": [
    "class UNet(nn.Module):\n",
    "\n",
    "    def __init__(self, filters, img_channels=3):\n",
    "        super(UNet, self).__init__()\n",
    "        self.up_channels = filters[::-1]\n",
    "        filters.insert(0, img_channels) # To start from the initial number channels of the image\n",
    "        self.down_channels = filters\n",
    "        self.relu = nn.ReLU()\n",
    "        self.output = nn.Conv2d(filters[1], img_channels, kernel_size=1)\n",
    "        \n",
    "\n",
    "    def block_down(self, in_chan, out_chan, kernel_conv=3, pad_conv=1, kernel_pool=2):\n",
    "        layers = []\n",
    "        layers.append(nn.Conv2d(in_chan, out_chan, kernel_size=kernel_conv, padding=pad_conv))\n",
    "        layers.append(nn.Conv2d(out_chan, out_chan, kernel_size=kernel_conv, padding=pad_conv))\n",
    "        layers.append(nn.MaxPool2d(kernel_size=kernel_pool))\n",
    "        return layers\n",
    "    \n",
    "    def block_up(self, in_chan, out_chan, kernel_conv=3, pad_conv=1, kernel_trans=2, strd_trans=2):\n",
    "        layers = []\n",
    "        layers.append(nn.ConvTranspose2d(in_chan, out_chan, kernel_size=kernel_trans, stride=strd_trans))\n",
    "        layers.append(nn.Conv2d(in_chan, out_chan, kernel_size=kernel_conv, padding=pad_conv))\n",
    "        layers.append(nn.Conv2d(out_chan, out_chan, kernel_size=kernel_conv, padding=pad_conv))\n",
    "        return layers\n",
    "\n",
    "    def forward(self, x):\n",
    "\n",
    "        # Down block\n",
    "        x_down = []\n",
    "        n_dchan = len(self.down_channels)\n",
    "        for i in range(n_dchan - 1):\n",
    "            #print(i, 'down')\n",
    "            in_chan, out_chan = self.down_channels[i], self.down_channels[i + 1]\n",
    "            #print(in_chan, out_chan) \n",
    "            layers = self.block_down(in_chan, out_chan)\n",
    "            for j in range(2):\n",
    "                x = self.relu(layers[j](x))    \n",
    "            x_down.append(x)\n",
    "            if i != n_dchan - 2: # To avoid maxpooling last block of layers     \n",
    "                x = layers[-1](x)\n",
    "\n",
    "        # Up block\n",
    "        x_down.reverse()\n",
    "        for i in range(len(self.up_channels) - 1):\n",
    "            #print(i, 'up')\n",
    "            in_chan, out_chan = self.up_channels[i], self.up_channels[i + 1] \n",
    "            #print(in_chan, out_chan)             \n",
    "            layers = self.block_up(in_chan, out_chan)\n",
    "            t_layer = layers[0](x)\n",
    "            x = torch.concat((t_layer, x_down[i+1]), dim=1)\n",
    "            for j in range(1, 3):\n",
    "                x = self.relu(layers[j](x))\n",
    "\n",
    "        # Output layer        \n",
    "        x = self.output(x)  # Same size as input image\n",
    "        return x\n"
   ]
  },
  {
   "cell_type": "code",
   "execution_count": 140,
   "metadata": {},
   "outputs": [
    {
     "name": "stdout",
     "output_type": "stream",
     "text": [
      "torch.Size([1, 3, 128, 128])\n"
     ]
    }
   ],
   "source": [
    "filters = [32, 64, 128]\n",
    "net = UNet(filters)\n",
    "img = torch.rand(1, 3, 128, 128) * 0.2 + 0.4  \n",
    "pred = net(img)\n",
    "print(pred.shape)  "
   ]
  }
 ],
 "metadata": {
  "kernelspec": {
   "display_name": "Python 3",
   "language": "python",
   "name": "python3"
  },
  "language_info": {
   "codemirror_mode": {
    "name": "ipython",
    "version": 3
   },
   "file_extension": ".py",
   "mimetype": "text/x-python",
   "name": "python",
   "nbconvert_exporter": "python",
   "pygments_lexer": "ipython3",
   "version": "3.9.0"
  }
 },
 "nbformat": 4,
 "nbformat_minor": 2
}
